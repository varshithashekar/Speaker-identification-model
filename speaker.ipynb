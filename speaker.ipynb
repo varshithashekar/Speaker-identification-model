from pyannote.audio import Model
import  os
import numpy as np
import pandas as pd
from pyannote.audio import Inference
model = Model.from_pretrained("pyannote/wespeaker-voxceleb-resnet34-LM")
# Function to create a dataset of ebmedings of audio clips
# input parameter: path of the directory for audio clips. The audio clips are
# stored in "audio_data" subdirectory
# The audio clippings of each speaker should be in separare subdirectories within 
# "audio_data" (with one directory for each speaker). 
# Subdirectoty name is considered as the speaker name (or class label)

def create_embedding(path):
    inference = Inference(model, window = "whole")#whole-to work on the whole data set or the whole input data
    data_list = []
    y=[]
    y_string = []
    audio_path = os.path.join(path,"audio_data") ## path for audio clippings
    dir_list = os.listdir(audio_path)
    index=0
    for dir in dir_list:
        dir_path = os.path.join(audio_path,dir)
        file_list = os.listdir(dir_path)
        for file in file_list:
            data_list.append(inference(os.path.join(dir_path, file)))
            y.append(index)
            y_string.append(dir)
        index+=1
    # Create a dataframe using ebmeddings and class labels
    df = pd.DataFrame(data_list)
    df.insert(df.shape[1], "Speaker_Id",y)
    df.insert(df.shape[1], "Speaker_Name",y_string)
    # Store the embeddings in a file
    df.to_csv(os.path.join(path,"embedding.csv"))
    #Create and store the embeddings in the specified path
path = "C:\\Users\\m\\Desktop"
create_embedding(path)
