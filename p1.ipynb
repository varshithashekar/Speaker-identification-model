{
 "cells": [
  {
   "cell_type": "code",
   "execution_count": 2,
   "id": "3bea1fc0-e5ce-4d25-8d49-7cf9ef16f2ff",
   "metadata": {},
   "outputs": [],
   "source": [
    "from pyannote.audio import Model\n",
    "import  os\n",
    "import numpy as np\n",
    "import pandas as pd\n",
    "from pyannote.audio import Inference\n",
    "model = Model.from_pretrained(\"pyannote/wespeaker-voxceleb-resnet34-LM\")\n",
    "# Function to create a dataset of ebmedings of audio clips\n",
    "# input parameter: path of the directory for audio clips. The audio clips are\n",
    "# stored in \"audio_data\" subdirectory\n",
    "# The audio clippings of each speaker should be in separare subdirectories within \n",
    "# \"audio_data\" (with one directory for each speaker). \n",
    "# Subdirectoty name is considered as the speaker name (or class label)\n",
    "\n",
    "def create_embedding(path):\n",
    "    inference = Inference(model, window = \"whole\")#whole-to work on the whole data set or the whole input data\n",
    "    data_list = []\n",
    "    y=[]\n",
    "    y_string = []\n",
    "    audio_path = os.path.join(path,\"audio_data\") ## path for audio clippings\n",
    "    dir_list = os.listdir(audio_path)\n",
    "    index=0\n",
    "    for dir in dir_list:\n",
    "        dir_path = os.path.join(audio_path,dir)\n",
    "        file_list = os.listdir(dir_path)\n",
    "        for file in file_list:\n",
    "            data_list.append(inference(os.path.join(dir_path, file)))\n",
    "            y.append(index)\n",
    "            y_string.append(dir)\n",
    "        index+=1\n",
    "    # Create a dataframe using ebmeddings and class labels\n",
    "    df = pd.DataFrame(data_list)\n",
    "    df.insert(df.shape[1], \"Speaker_Id\",y)\n",
    "    df.insert(df.shape[1], \"Speaker_Name\",y_string)\n",
    "    # Store the embeddings in a file\n",
    "    df.to_csv(os.path.join(path,\"embedding.csv\"))\n",
    "    #Create and store the embeddings in the specified path\n",
    "path = \"C:\\\\Users\\\\m\\\\Desktop\"\n",
    "create_embedding(path)"
   ]
  },
  {
   "cell_type": "code",
   "execution_count": null,
   "id": "a99fd09f-b281-49c0-b633-9b3f343cbe2e",
   "metadata": {},
   "outputs": [],
   "source": []
  },
  {
   "cell_type": "code",
   "execution_count": null,
   "id": "a4ab9bd2-7b10-455c-8b8a-363c683afb44",
   "metadata": {},
   "outputs": [],
   "source": []
  },
  {
   "cell_type": "code",
   "execution_count": null,
   "id": "1c6c4390-1483-4694-9060-9f65e9a531f2",
   "metadata": {},
   "outputs": [],
   "source": []
  }
 ],
 "metadata": {
  "kernelspec": {
   "display_name": "Python 3 (ipykernel)",
   "language": "python",
   "name": "python3"
  },
  "language_info": {
   "codemirror_mode": {
    "name": "ipython",
    "version": 3
   },
   "file_extension": ".py",
   "mimetype": "text/x-python",
   "name": "python",
   "nbconvert_exporter": "python",
   "pygments_lexer": "ipython3",
   "version": "3.11.7"
  }
 },
 "nbformat": 4,
 "nbformat_minor": 5
}
